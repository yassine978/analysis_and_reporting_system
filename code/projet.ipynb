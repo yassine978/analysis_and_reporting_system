{
 "cells": [
  {
   "cell_type": "code",
   "execution_count": 4,
   "id": "0fc63a18",
   "metadata": {},
   "outputs": [
    {
     "name": "stdout",
     "output_type": "stream",
     "text": [
      "Requirement already satisfied: atoti in c:\\users\\yassi_4sf0njx\\anaconda3\\lib\\site-packages (0.8.7)\n",
      "Requirement already satisfied: atoti-core in c:\\users\\yassi_4sf0njx\\anaconda3\\lib\\site-packages (from atoti) (0.8.7)\n",
      "Requirement already satisfied: atoti-query==0.8.7 in c:\\users\\yassi_4sf0njx\\anaconda3\\lib\\site-packages (from atoti) (0.8.7)\n",
      "Requirement already satisfied: jdk4py<18,>=17.0.9.2 in c:\\users\\yassi_4sf0njx\\anaconda3\\lib\\site-packages (from atoti) (17.0.9.2)\n",
      "Requirement already satisfied: numpy in c:\\users\\yassi_4sf0njx\\anaconda3\\lib\\site-packages (from atoti) (1.24.3)\n",
      "Requirement already satisfied: pandas in c:\\users\\yassi_4sf0njx\\anaconda3\\lib\\site-packages (from atoti) (2.0.3)\n",
      "Requirement already satisfied: py4j<0.11,>=0.10.9.7 in c:\\users\\yassi_4sf0njx\\anaconda3\\lib\\site-packages (from atoti) (0.10.9.7)\n",
      "Requirement already satisfied: pyarrow in c:\\users\\yassi_4sf0njx\\anaconda3\\lib\\site-packages (from atoti) (14.0.1)\n",
      "Requirement already satisfied: pydantic in c:\\users\\yassi_4sf0njx\\anaconda3\\lib\\site-packages (from atoti) (2.5.2)\n",
      "Requirement already satisfied: typing-extensions in c:\\users\\yassi_4sf0njx\\anaconda3\\lib\\site-packages (from atoti) (4.7.1)\n",
      "Requirement already satisfied: importlib-metadata>=6.6.0 in c:\\users\\yassi_4sf0njx\\anaconda3\\lib\\site-packages (from atoti-core->atoti) (7.0.0)\n",
      "Requirement already satisfied: python-dateutil>=2.8.2 in c:\\users\\yassi_4sf0njx\\anaconda3\\lib\\site-packages (from pandas->atoti) (2.8.2)\n",
      "Requirement already satisfied: pytz>=2020.1 in c:\\users\\yassi_4sf0njx\\anaconda3\\lib\\site-packages (from pandas->atoti) (2023.3.post1)\n",
      "Requirement already satisfied: tzdata>=2022.1 in c:\\users\\yassi_4sf0njx\\anaconda3\\lib\\site-packages (from pandas->atoti) (2023.3)\n",
      "Requirement already satisfied: annotated-types>=0.4.0 in c:\\users\\yassi_4sf0njx\\anaconda3\\lib\\site-packages (from pydantic->atoti) (0.6.0)\n",
      "Requirement already satisfied: pydantic-core==2.14.5 in c:\\users\\yassi_4sf0njx\\anaconda3\\lib\\site-packages (from pydantic->atoti) (2.14.5)\n",
      "Requirement already satisfied: zipp>=0.5 in c:\\users\\yassi_4sf0njx\\anaconda3\\lib\\site-packages (from importlib-metadata>=6.6.0->atoti-core->atoti) (3.11.0)\n",
      "Requirement already satisfied: six>=1.5 in c:\\users\\yassi_4sf0njx\\anaconda3\\lib\\site-packages (from python-dateutil>=2.8.2->pandas->atoti) (1.16.0)\n",
      "Note: you may need to restart the kernel to use updated packages.\n"
     ]
    }
   ],
   "source": [
    "pip install atoti"
   ]
  },
  {
   "cell_type": "code",
   "execution_count": 5,
   "id": "bc8bf504",
   "metadata": {},
   "outputs": [
    {
     "name": "stdout",
     "output_type": "stream",
     "text": [
      "Requirement already satisfied: atoti-jupyterlab in c:\\users\\yassi_4sf0njx\\anaconda3\\lib\\site-packages (0.8.7)\n",
      "Requirement already satisfied: atoti-core==0.8.7 in c:\\users\\yassi_4sf0njx\\anaconda3\\lib\\site-packages (from atoti-jupyterlab) (0.8.7)\n",
      "Requirement already satisfied: jupyterlab>=4.0.5 in c:\\users\\yassi_4sf0njx\\anaconda3\\lib\\site-packages (from atoti-jupyterlab) (4.0.9)\n",
      "Requirement already satisfied: typing-extensions in c:\\users\\yassi_4sf0njx\\anaconda3\\lib\\site-packages (from atoti-jupyterlab) (4.7.1)\n",
      "Requirement already satisfied: importlib-metadata>=6.6.0 in c:\\users\\yassi_4sf0njx\\anaconda3\\lib\\site-packages (from atoti-core==0.8.7->atoti-jupyterlab) (7.0.0)\n",
      "Requirement already satisfied: numpy>=1.24.3 in c:\\users\\yassi_4sf0njx\\anaconda3\\lib\\site-packages (from atoti-core==0.8.7->atoti-jupyterlab) (1.24.3)\n",
      "Requirement already satisfied: pandas>=1.5.3 in c:\\users\\yassi_4sf0njx\\anaconda3\\lib\\site-packages (from atoti-core==0.8.7->atoti-jupyterlab) (2.0.3)\n",
      "Requirement already satisfied: pydantic>=2.5.2 in c:\\users\\yassi_4sf0njx\\anaconda3\\lib\\site-packages (from atoti-core==0.8.7->atoti-jupyterlab) (2.5.2)\n",
      "Requirement already satisfied: async-lru>=1.0.0 in c:\\users\\yassi_4sf0njx\\anaconda3\\lib\\site-packages (from jupyterlab>=4.0.5->atoti-jupyterlab) (2.0.4)\n",
      "Requirement already satisfied: ipykernel in c:\\users\\yassi_4sf0njx\\anaconda3\\lib\\site-packages (from jupyterlab>=4.0.5->atoti-jupyterlab) (6.25.0)\n",
      "Requirement already satisfied: jinja2>=3.0.3 in c:\\users\\yassi_4sf0njx\\anaconda3\\lib\\site-packages (from jupyterlab>=4.0.5->atoti-jupyterlab) (3.1.2)\n",
      "Requirement already satisfied: jupyter-core in c:\\users\\yassi_4sf0njx\\anaconda3\\lib\\site-packages (from jupyterlab>=4.0.5->atoti-jupyterlab) (5.3.0)\n",
      "Requirement already satisfied: jupyter-lsp>=2.0.0 in c:\\users\\yassi_4sf0njx\\anaconda3\\lib\\site-packages (from jupyterlab>=4.0.5->atoti-jupyterlab) (2.2.1)\n",
      "Requirement already satisfied: jupyter-server<3,>=2.4.0 in c:\\users\\yassi_4sf0njx\\anaconda3\\lib\\site-packages (from jupyterlab>=4.0.5->atoti-jupyterlab) (2.12.1)\n",
      "Requirement already satisfied: jupyterlab-server<3,>=2.19.0 in c:\\users\\yassi_4sf0njx\\anaconda3\\lib\\site-packages (from jupyterlab>=4.0.5->atoti-jupyterlab) (2.22.0)\n",
      "Requirement already satisfied: notebook-shim>=0.2 in c:\\users\\yassi_4sf0njx\\anaconda3\\lib\\site-packages (from jupyterlab>=4.0.5->atoti-jupyterlab) (0.2.2)\n",
      "Requirement already satisfied: packaging in c:\\users\\yassi_4sf0njx\\anaconda3\\lib\\site-packages (from jupyterlab>=4.0.5->atoti-jupyterlab) (23.1)\n",
      "Requirement already satisfied: tornado>=6.2.0 in c:\\users\\yassi_4sf0njx\\anaconda3\\lib\\site-packages (from jupyterlab>=4.0.5->atoti-jupyterlab) (6.3.2)\n",
      "Requirement already satisfied: traitlets in c:\\users\\yassi_4sf0njx\\anaconda3\\lib\\site-packages (from jupyterlab>=4.0.5->atoti-jupyterlab) (5.7.1)\n",
      "Requirement already satisfied: zipp>=0.5 in c:\\users\\yassi_4sf0njx\\anaconda3\\lib\\site-packages (from importlib-metadata>=6.6.0->atoti-core==0.8.7->atoti-jupyterlab) (3.11.0)\n",
      "Requirement already satisfied: MarkupSafe>=2.0 in c:\\users\\yassi_4sf0njx\\anaconda3\\lib\\site-packages (from jinja2>=3.0.3->jupyterlab>=4.0.5->atoti-jupyterlab) (2.1.1)\n",
      "Requirement already satisfied: anyio>=3.1.0 in c:\\users\\yassi_4sf0njx\\anaconda3\\lib\\site-packages (from jupyter-server<3,>=2.4.0->jupyterlab>=4.0.5->atoti-jupyterlab) (3.5.0)\n",
      "Requirement already satisfied: argon2-cffi in c:\\users\\yassi_4sf0njx\\anaconda3\\lib\\site-packages (from jupyter-server<3,>=2.4.0->jupyterlab>=4.0.5->atoti-jupyterlab) (21.3.0)\n",
      "Requirement already satisfied: jupyter-client>=7.4.4 in c:\\users\\yassi_4sf0njx\\anaconda3\\lib\\site-packages (from jupyter-server<3,>=2.4.0->jupyterlab>=4.0.5->atoti-jupyterlab) (7.4.9)\n",
      "Requirement already satisfied: jupyter-events>=0.9.0 in c:\\users\\yassi_4sf0njx\\anaconda3\\lib\\site-packages (from jupyter-server<3,>=2.4.0->jupyterlab>=4.0.5->atoti-jupyterlab) (0.9.0)\n",
      "Requirement already satisfied: jupyter-server-terminals in c:\\users\\yassi_4sf0njx\\anaconda3\\lib\\site-packages (from jupyter-server<3,>=2.4.0->jupyterlab>=4.0.5->atoti-jupyterlab) (0.4.4)\n",
      "Requirement already satisfied: nbconvert>=6.4.4 in c:\\users\\yassi_4sf0njx\\anaconda3\\lib\\site-packages (from jupyter-server<3,>=2.4.0->jupyterlab>=4.0.5->atoti-jupyterlab) (6.5.4)\n",
      "Requirement already satisfied: nbformat>=5.3.0 in c:\\users\\yassi_4sf0njx\\anaconda3\\lib\\site-packages (from jupyter-server<3,>=2.4.0->jupyterlab>=4.0.5->atoti-jupyterlab) (5.9.2)\n",
      "Requirement already satisfied: overrides in c:\\users\\yassi_4sf0njx\\anaconda3\\lib\\site-packages (from jupyter-server<3,>=2.4.0->jupyterlab>=4.0.5->atoti-jupyterlab) (7.4.0)\n",
      "Requirement already satisfied: prometheus-client in c:\\users\\yassi_4sf0njx\\anaconda3\\lib\\site-packages (from jupyter-server<3,>=2.4.0->jupyterlab>=4.0.5->atoti-jupyterlab) (0.14.1)\n",
      "Requirement already satisfied: pywinpty in c:\\users\\yassi_4sf0njx\\anaconda3\\lib\\site-packages (from jupyter-server<3,>=2.4.0->jupyterlab>=4.0.5->atoti-jupyterlab) (2.0.10)\n",
      "Requirement already satisfied: pyzmq>=24 in c:\\users\\yassi_4sf0njx\\anaconda3\\lib\\site-packages (from jupyter-server<3,>=2.4.0->jupyterlab>=4.0.5->atoti-jupyterlab) (25.1.2)\n",
      "Requirement already satisfied: send2trash>=1.8.2 in c:\\users\\yassi_4sf0njx\\anaconda3\\lib\\site-packages (from jupyter-server<3,>=2.4.0->jupyterlab>=4.0.5->atoti-jupyterlab) (1.8.2)\n",
      "Requirement already satisfied: terminado>=0.8.3 in c:\\users\\yassi_4sf0njx\\anaconda3\\lib\\site-packages (from jupyter-server<3,>=2.4.0->jupyterlab>=4.0.5->atoti-jupyterlab) (0.17.1)\n",
      "Requirement already satisfied: websocket-client in c:\\users\\yassi_4sf0njx\\anaconda3\\lib\\site-packages (from jupyter-server<3,>=2.4.0->jupyterlab>=4.0.5->atoti-jupyterlab) (0.58.0)\n",
      "Requirement already satisfied: platformdirs>=2.5 in c:\\users\\yassi_4sf0njx\\anaconda3\\lib\\site-packages (from jupyter-core->jupyterlab>=4.0.5->atoti-jupyterlab) (3.10.0)\n",
      "Requirement already satisfied: pywin32>=300 in c:\\users\\yassi_4sf0njx\\anaconda3\\lib\\site-packages (from jupyter-core->jupyterlab>=4.0.5->atoti-jupyterlab) (305.1)\n",
      "Requirement already satisfied: babel>=2.10 in c:\\users\\yassi_4sf0njx\\anaconda3\\lib\\site-packages (from jupyterlab-server<3,>=2.19.0->jupyterlab>=4.0.5->atoti-jupyterlab) (2.11.0)\n",
      "Requirement already satisfied: json5>=0.9.0 in c:\\users\\yassi_4sf0njx\\anaconda3\\lib\\site-packages (from jupyterlab-server<3,>=2.19.0->jupyterlab>=4.0.5->atoti-jupyterlab) (0.9.6)\n",
      "Requirement already satisfied: jsonschema>=4.17.3 in c:\\users\\yassi_4sf0njx\\anaconda3\\lib\\site-packages (from jupyterlab-server<3,>=2.19.0->jupyterlab>=4.0.5->atoti-jupyterlab) (4.20.0)\n",
      "Requirement already satisfied: requests>=2.28 in c:\\users\\yassi_4sf0njx\\anaconda3\\lib\\site-packages (from jupyterlab-server<3,>=2.19.0->jupyterlab>=4.0.5->atoti-jupyterlab) (2.31.0)\n",
      "Requirement already satisfied: python-dateutil>=2.8.2 in c:\\users\\yassi_4sf0njx\\anaconda3\\lib\\site-packages (from pandas>=1.5.3->atoti-core==0.8.7->atoti-jupyterlab) (2.8.2)\n",
      "Requirement already satisfied: pytz>=2020.1 in c:\\users\\yassi_4sf0njx\\anaconda3\\lib\\site-packages (from pandas>=1.5.3->atoti-core==0.8.7->atoti-jupyterlab) (2023.3.post1)\n",
      "Requirement already satisfied: tzdata>=2022.1 in c:\\users\\yassi_4sf0njx\\anaconda3\\lib\\site-packages (from pandas>=1.5.3->atoti-core==0.8.7->atoti-jupyterlab) (2023.3)\n",
      "Requirement already satisfied: annotated-types>=0.4.0 in c:\\users\\yassi_4sf0njx\\anaconda3\\lib\\site-packages (from pydantic>=2.5.2->atoti-core==0.8.7->atoti-jupyterlab) (0.6.0)\n",
      "Requirement already satisfied: pydantic-core==2.14.5 in c:\\users\\yassi_4sf0njx\\anaconda3\\lib\\site-packages (from pydantic>=2.5.2->atoti-core==0.8.7->atoti-jupyterlab) (2.14.5)\n",
      "Requirement already satisfied: comm>=0.1.1 in c:\\users\\yassi_4sf0njx\\anaconda3\\lib\\site-packages (from ipykernel->jupyterlab>=4.0.5->atoti-jupyterlab) (0.1.2)\n",
      "Requirement already satisfied: debugpy>=1.6.5 in c:\\users\\yassi_4sf0njx\\anaconda3\\lib\\site-packages (from ipykernel->jupyterlab>=4.0.5->atoti-jupyterlab) (1.6.7)\n",
      "Requirement already satisfied: ipython>=7.23.1 in c:\\users\\yassi_4sf0njx\\anaconda3\\lib\\site-packages (from ipykernel->jupyterlab>=4.0.5->atoti-jupyterlab) (8.15.0)\n",
      "Requirement already satisfied: matplotlib-inline>=0.1 in c:\\users\\yassi_4sf0njx\\anaconda3\\lib\\site-packages (from ipykernel->jupyterlab>=4.0.5->atoti-jupyterlab) (0.1.6)\n",
      "Requirement already satisfied: nest-asyncio in c:\\users\\yassi_4sf0njx\\anaconda3\\lib\\site-packages (from ipykernel->jupyterlab>=4.0.5->atoti-jupyterlab) (1.5.6)\n",
      "Requirement already satisfied: psutil in c:\\users\\yassi_4sf0njx\\anaconda3\\lib\\site-packages (from ipykernel->jupyterlab>=4.0.5->atoti-jupyterlab) (5.9.0)\n",
      "Requirement already satisfied: idna>=2.8 in c:\\users\\yassi_4sf0njx\\anaconda3\\lib\\site-packages (from anyio>=3.1.0->jupyter-server<3,>=2.4.0->jupyterlab>=4.0.5->atoti-jupyterlab) (3.4)\n",
      "Requirement already satisfied: sniffio>=1.1 in c:\\users\\yassi_4sf0njx\\anaconda3\\lib\\site-packages (from anyio>=3.1.0->jupyter-server<3,>=2.4.0->jupyterlab>=4.0.5->atoti-jupyterlab) (1.2.0)\n",
      "Requirement already satisfied: backcall in c:\\users\\yassi_4sf0njx\\anaconda3\\lib\\site-packages (from ipython>=7.23.1->ipykernel->jupyterlab>=4.0.5->atoti-jupyterlab) (0.2.0)\n",
      "Requirement already satisfied: decorator in c:\\users\\yassi_4sf0njx\\anaconda3\\lib\\site-packages (from ipython>=7.23.1->ipykernel->jupyterlab>=4.0.5->atoti-jupyterlab) (5.1.1)\n",
      "Requirement already satisfied: jedi>=0.16 in c:\\users\\yassi_4sf0njx\\anaconda3\\lib\\site-packages (from ipython>=7.23.1->ipykernel->jupyterlab>=4.0.5->atoti-jupyterlab) (0.18.1)\n",
      "Requirement already satisfied: pickleshare in c:\\users\\yassi_4sf0njx\\anaconda3\\lib\\site-packages (from ipython>=7.23.1->ipykernel->jupyterlab>=4.0.5->atoti-jupyterlab) (0.7.5)\n",
      "Requirement already satisfied: prompt-toolkit!=3.0.37,<3.1.0,>=3.0.30 in c:\\users\\yassi_4sf0njx\\anaconda3\\lib\\site-packages (from ipython>=7.23.1->ipykernel->jupyterlab>=4.0.5->atoti-jupyterlab) (3.0.36)\n",
      "Requirement already satisfied: pygments>=2.4.0 in c:\\users\\yassi_4sf0njx\\anaconda3\\lib\\site-packages (from ipython>=7.23.1->ipykernel->jupyterlab>=4.0.5->atoti-jupyterlab) (2.15.1)\n",
      "Requirement already satisfied: stack-data in c:\\users\\yassi_4sf0njx\\anaconda3\\lib\\site-packages (from ipython>=7.23.1->ipykernel->jupyterlab>=4.0.5->atoti-jupyterlab) (0.2.0)\n",
      "Requirement already satisfied: colorama in c:\\users\\yassi_4sf0njx\\anaconda3\\lib\\site-packages (from ipython>=7.23.1->ipykernel->jupyterlab>=4.0.5->atoti-jupyterlab) (0.4.6)\n",
      "Requirement already satisfied: attrs>=22.2.0 in c:\\users\\yassi_4sf0njx\\anaconda3\\lib\\site-packages (from jsonschema>=4.17.3->jupyterlab-server<3,>=2.19.0->jupyterlab>=4.0.5->atoti-jupyterlab) (23.1.0)\n",
      "Requirement already satisfied: jsonschema-specifications>=2023.03.6 in c:\\users\\yassi_4sf0njx\\anaconda3\\lib\\site-packages (from jsonschema>=4.17.3->jupyterlab-server<3,>=2.19.0->jupyterlab>=4.0.5->atoti-jupyterlab) (2023.11.2)\n",
      "Requirement already satisfied: referencing>=0.28.4 in c:\\users\\yassi_4sf0njx\\anaconda3\\lib\\site-packages (from jsonschema>=4.17.3->jupyterlab-server<3,>=2.19.0->jupyterlab>=4.0.5->atoti-jupyterlab) (0.32.0)\n",
      "Requirement already satisfied: rpds-py>=0.7.1 in c:\\users\\yassi_4sf0njx\\anaconda3\\lib\\site-packages (from jsonschema>=4.17.3->jupyterlab-server<3,>=2.19.0->jupyterlab>=4.0.5->atoti-jupyterlab) (0.13.2)\n",
      "Requirement already satisfied: entrypoints in c:\\users\\yassi_4sf0njx\\anaconda3\\lib\\site-packages (from jupyter-client>=7.4.4->jupyter-server<3,>=2.4.0->jupyterlab>=4.0.5->atoti-jupyterlab) (0.4)\n",
      "Requirement already satisfied: python-json-logger>=2.0.4 in c:\\users\\yassi_4sf0njx\\anaconda3\\lib\\site-packages (from jupyter-events>=0.9.0->jupyter-server<3,>=2.4.0->jupyterlab>=4.0.5->atoti-jupyterlab) (2.0.7)\n",
      "Requirement already satisfied: pyyaml>=5.3 in c:\\users\\yassi_4sf0njx\\anaconda3\\lib\\site-packages (from jupyter-events>=0.9.0->jupyter-server<3,>=2.4.0->jupyterlab>=4.0.5->atoti-jupyterlab) (6.0)\n",
      "Requirement already satisfied: rfc3339-validator in c:\\users\\yassi_4sf0njx\\anaconda3\\lib\\site-packages (from jupyter-events>=0.9.0->jupyter-server<3,>=2.4.0->jupyterlab>=4.0.5->atoti-jupyterlab) (0.1.4)\n",
      "Requirement already satisfied: rfc3986-validator>=0.1.1 in c:\\users\\yassi_4sf0njx\\anaconda3\\lib\\site-packages (from jupyter-events>=0.9.0->jupyter-server<3,>=2.4.0->jupyterlab>=4.0.5->atoti-jupyterlab) (0.1.1)\n",
      "Requirement already satisfied: lxml in c:\\users\\yassi_4sf0njx\\anaconda3\\lib\\site-packages (from nbconvert>=6.4.4->jupyter-server<3,>=2.4.0->jupyterlab>=4.0.5->atoti-jupyterlab) (4.9.3)\n",
      "Requirement already satisfied: beautifulsoup4 in c:\\users\\yassi_4sf0njx\\anaconda3\\lib\\site-packages (from nbconvert>=6.4.4->jupyter-server<3,>=2.4.0->jupyterlab>=4.0.5->atoti-jupyterlab) (4.12.2)\n",
      "Requirement already satisfied: bleach in c:\\users\\yassi_4sf0njx\\anaconda3\\lib\\site-packages (from nbconvert>=6.4.4->jupyter-server<3,>=2.4.0->jupyterlab>=4.0.5->atoti-jupyterlab) (4.1.0)\n",
      "Requirement already satisfied: defusedxml in c:\\users\\yassi_4sf0njx\\anaconda3\\lib\\site-packages (from nbconvert>=6.4.4->jupyter-server<3,>=2.4.0->jupyterlab>=4.0.5->atoti-jupyterlab) (0.7.1)\n",
      "Requirement already satisfied: jupyterlab-pygments in c:\\users\\yassi_4sf0njx\\anaconda3\\lib\\site-packages (from nbconvert>=6.4.4->jupyter-server<3,>=2.4.0->jupyterlab>=4.0.5->atoti-jupyterlab) (0.1.2)\n",
      "Requirement already satisfied: mistune<2,>=0.8.1 in c:\\users\\yassi_4sf0njx\\anaconda3\\lib\\site-packages (from nbconvert>=6.4.4->jupyter-server<3,>=2.4.0->jupyterlab>=4.0.5->atoti-jupyterlab) (0.8.4)\n",
      "Requirement already satisfied: nbclient>=0.5.0 in c:\\users\\yassi_4sf0njx\\anaconda3\\lib\\site-packages (from nbconvert>=6.4.4->jupyter-server<3,>=2.4.0->jupyterlab>=4.0.5->atoti-jupyterlab) (0.5.13)\n",
      "Requirement already satisfied: pandocfilters>=1.4.1 in c:\\users\\yassi_4sf0njx\\anaconda3\\lib\\site-packages (from nbconvert>=6.4.4->jupyter-server<3,>=2.4.0->jupyterlab>=4.0.5->atoti-jupyterlab) (1.5.0)\n",
      "Requirement already satisfied: tinycss2 in c:\\users\\yassi_4sf0njx\\anaconda3\\lib\\site-packages (from nbconvert>=6.4.4->jupyter-server<3,>=2.4.0->jupyterlab>=4.0.5->atoti-jupyterlab) (1.2.1)\n",
      "Requirement already satisfied: fastjsonschema in c:\\users\\yassi_4sf0njx\\anaconda3\\lib\\site-packages (from nbformat>=5.3.0->jupyter-server<3,>=2.4.0->jupyterlab>=4.0.5->atoti-jupyterlab) (2.16.2)\n",
      "Requirement already satisfied: six>=1.5 in c:\\users\\yassi_4sf0njx\\anaconda3\\lib\\site-packages (from python-dateutil>=2.8.2->pandas>=1.5.3->atoti-core==0.8.7->atoti-jupyterlab) (1.16.0)\n",
      "Requirement already satisfied: charset-normalizer<4,>=2 in c:\\users\\yassi_4sf0njx\\anaconda3\\lib\\site-packages (from requests>=2.28->jupyterlab-server<3,>=2.19.0->jupyterlab>=4.0.5->atoti-jupyterlab) (2.0.4)\n",
      "Requirement already satisfied: urllib3<3,>=1.21.1 in c:\\users\\yassi_4sf0njx\\anaconda3\\lib\\site-packages (from requests>=2.28->jupyterlab-server<3,>=2.19.0->jupyterlab>=4.0.5->atoti-jupyterlab) (1.26.16)\n",
      "Requirement already satisfied: certifi>=2017.4.17 in c:\\users\\yassi_4sf0njx\\anaconda3\\lib\\site-packages (from requests>=2.28->jupyterlab-server<3,>=2.19.0->jupyterlab>=4.0.5->atoti-jupyterlab) (2023.7.22)\n",
      "Requirement already satisfied: argon2-cffi-bindings in c:\\users\\yassi_4sf0njx\\anaconda3\\lib\\site-packages (from argon2-cffi->jupyter-server<3,>=2.4.0->jupyterlab>=4.0.5->atoti-jupyterlab) (21.2.0)\n",
      "Requirement already satisfied: parso<0.9.0,>=0.8.0 in c:\\users\\yassi_4sf0njx\\anaconda3\\lib\\site-packages (from jedi>=0.16->ipython>=7.23.1->ipykernel->jupyterlab>=4.0.5->atoti-jupyterlab) (0.8.3)\n",
      "Requirement already satisfied: fqdn in c:\\users\\yassi_4sf0njx\\anaconda3\\lib\\site-packages (from jsonschema>=4.17.3->jupyterlab-server<3,>=2.19.0->jupyterlab>=4.0.5->atoti-jupyterlab) (1.5.1)\n",
      "Requirement already satisfied: isoduration in c:\\users\\yassi_4sf0njx\\anaconda3\\lib\\site-packages (from jsonschema>=4.17.3->jupyterlab-server<3,>=2.19.0->jupyterlab>=4.0.5->atoti-jupyterlab) (20.11.0)\n",
      "Requirement already satisfied: jsonpointer>1.13 in c:\\users\\yassi_4sf0njx\\anaconda3\\lib\\site-packages (from jsonschema>=4.17.3->jupyterlab-server<3,>=2.19.0->jupyterlab>=4.0.5->atoti-jupyterlab) (2.1)\n",
      "Requirement already satisfied: uri-template in c:\\users\\yassi_4sf0njx\\anaconda3\\lib\\site-packages (from jsonschema>=4.17.3->jupyterlab-server<3,>=2.19.0->jupyterlab>=4.0.5->atoti-jupyterlab) (1.3.0)\n",
      "Requirement already satisfied: webcolors>=1.11 in c:\\users\\yassi_4sf0njx\\anaconda3\\lib\\site-packages (from jsonschema>=4.17.3->jupyterlab-server<3,>=2.19.0->jupyterlab>=4.0.5->atoti-jupyterlab) (1.13)\n",
      "Requirement already satisfied: wcwidth in c:\\users\\yassi_4sf0njx\\anaconda3\\lib\\site-packages (from prompt-toolkit!=3.0.37,<3.1.0,>=3.0.30->ipython>=7.23.1->ipykernel->jupyterlab>=4.0.5->atoti-jupyterlab) (0.2.5)\n",
      "Requirement already satisfied: cffi>=1.0.1 in c:\\users\\yassi_4sf0njx\\anaconda3\\lib\\site-packages (from argon2-cffi-bindings->argon2-cffi->jupyter-server<3,>=2.4.0->jupyterlab>=4.0.5->atoti-jupyterlab) (1.15.1)\n",
      "Requirement already satisfied: soupsieve>1.2 in c:\\users\\yassi_4sf0njx\\anaconda3\\lib\\site-packages (from beautifulsoup4->nbconvert>=6.4.4->jupyter-server<3,>=2.4.0->jupyterlab>=4.0.5->atoti-jupyterlab) (2.5)\n",
      "Requirement already satisfied: webencodings in c:\\users\\yassi_4sf0njx\\anaconda3\\lib\\site-packages (from bleach->nbconvert>=6.4.4->jupyter-server<3,>=2.4.0->jupyterlab>=4.0.5->atoti-jupyterlab) (0.5.1)\n",
      "Requirement already satisfied: executing in c:\\users\\yassi_4sf0njx\\anaconda3\\lib\\site-packages (from stack-data->ipython>=7.23.1->ipykernel->jupyterlab>=4.0.5->atoti-jupyterlab) (0.8.3)\n",
      "Requirement already satisfied: asttokens in c:\\users\\yassi_4sf0njx\\anaconda3\\lib\\site-packages (from stack-data->ipython>=7.23.1->ipykernel->jupyterlab>=4.0.5->atoti-jupyterlab) (2.0.5)\n",
      "Requirement already satisfied: pure-eval in c:\\users\\yassi_4sf0njx\\anaconda3\\lib\\site-packages (from stack-data->ipython>=7.23.1->ipykernel->jupyterlab>=4.0.5->atoti-jupyterlab) (0.2.2)\n",
      "Requirement already satisfied: pycparser in c:\\users\\yassi_4sf0njx\\anaconda3\\lib\\site-packages (from cffi>=1.0.1->argon2-cffi-bindings->argon2-cffi->jupyter-server<3,>=2.4.0->jupyterlab>=4.0.5->atoti-jupyterlab) (2.21)\n",
      "Requirement already satisfied: arrow>=0.15.0 in c:\\users\\yassi_4sf0njx\\anaconda3\\lib\\site-packages (from isoduration->jsonschema>=4.17.3->jupyterlab-server<3,>=2.19.0->jupyterlab>=4.0.5->atoti-jupyterlab) (1.2.3)\n"
     ]
    }
   ],
   "source": [
    "!pip install atoti-jupyterlab"
   ]
  },
  {
   "cell_type": "code",
   "execution_count": 1,
   "id": "2ace2bcc",
   "metadata": {},
   "outputs": [
    {
     "name": "stdout",
     "output_type": "stream",
     "text": [
      "Welcome to Atoti 0.8.7!\n",
      "\n",
      "By using this community edition, you agree with the license available at https://docs.atoti.io/latest/eula.html.\n",
      "Browse the official documentation at https://docs.atoti.io.\n",
      "Join the community at https://www.atoti.io/register.\n",
      "\n",
      "Atoti collects telemetry data, which is used to help understand how to improve the product.\n",
      "If you don't wish to send usage data, you can request a trial license at https://www.atoti.io/evaluation-license-request.\n",
      "\n",
      "You can hide this message by setting the `ATOTI_HIDE_EULA_MESSAGE` environment variable to True.\n",
      "           id_pays     id_date  nb_cas  deaths   cum_num\n",
      "0  AsiaAfghanistan  14/12/2020   746.0     6.0  9.013779\n",
      "1  AsiaAfghanistan  13/12/2020   298.0     9.0  7.052776\n",
      "2  AsiaAfghanistan  12/12/2020   113.0    11.0  6.868768\n",
      "3  AsiaAfghanistan  11/12/2020    63.0    10.0  7.134266\n",
      "4  AsiaAfghanistan  10/12/2020   202.0    16.0  6.968658\n",
      "           id_pays     nom_pays geold code_pays  pays_pop continent\n",
      "0  AsiaAfghanistan  Afghanistan    AF       AFG  38041757      Asia\n",
      "1    EuropeAlbania      Albania    AL       ALB   2862427    Europe\n",
      "2    AfricaAlgeria      Algeria    DZ       DZA  43053054    Africa\n",
      "3    EuropeAndorra      Andorra    AD       AND     76177    Europe\n",
      "4     AfricaAngola       Angola    AO       AGO  31825299    Africa\n",
      "      id_date  annee mois jours\n",
      "0  14/12/2020   2020   12    14\n",
      "1  13/12/2020   2020   12    13\n",
      "2  12/12/2020   2020   12    12\n",
      "3  11/12/2020   2020   12    11\n",
      "4  10/12/2020   2020   12    10\n"
     ]
    },
    {
     "name": "stderr",
     "output_type": "stream",
     "text": [
      "C:\\Users\\yassi_4sf0njx\\AppData\\Local\\Temp\\ipykernel_1508\\3302824376.py:7: UserWarning: pandas only supports SQLAlchemy connectable (engine/connection) or database string URI or sqlite3 DBAPI2 connection. Other DBAPI2 objects are not tested. Please consider using SQLAlchemy.\n",
      "  covid_df = p.read_sql_query('select * from \"COVID\".covid19',con=pgconn)\n",
      "C:\\Users\\yassi_4sf0njx\\AppData\\Local\\Temp\\ipykernel_1508\\3302824376.py:10: UserWarning: pandas only supports SQLAlchemy connectable (engine/connection) or database string URI or sqlite3 DBAPI2 connection. Other DBAPI2 objects are not tested. Please consider using SQLAlchemy.\n",
      "  pays_df = p.read_sql_query('select * from \"COVID\".pays',con=pgconn)\n",
      "C:\\Users\\yassi_4sf0njx\\AppData\\Local\\Temp\\ipykernel_1508\\3302824376.py:11: UserWarning: pandas only supports SQLAlchemy connectable (engine/connection) or database string URI or sqlite3 DBAPI2 connection. Other DBAPI2 objects are not tested. Please consider using SQLAlchemy.\n",
      "  date_df = p.read_sql_query('select * from \"COVID\".date',con=pgconn)\n"
     ]
    }
   ],
   "source": [
    "import pandas as p\n",
    "import atoti as tt\n",
    "import psycopg2\n",
    "pgconn = psycopg2.connect(dbname='covid',user='postgres', password='2223111452', port='5433', options='-c search_path=covid,public')\n",
    "#('set search_path to \"COVID\"')\n",
    "\n",
    "covid_df = p.read_sql_query('select * from \"COVID\".covid19',con=pgconn)\n",
    "pays_df = p.read_sql_query('select * from \"COVID\".pays',con=pgconn)\n",
    "date_df = p.read_sql_query('select * from \"COVID\".date',con=pgconn)\n",
    "\n",
    "print(covid_df.head())\n",
    "print(pays_df.head())\n",
    "print(date_df.head())"
   ]
  },
  {
   "cell_type": "code",
   "execution_count": 2,
   "id": "c603424d",
   "metadata": {},
   "outputs": [
    {
     "name": "stderr",
     "output_type": "stream",
     "text": [
      "C:\\Users\\yassi_4sf0njx\\anaconda3\\Lib\\site-packages\\atoti_core\\_link.py:27: FutureWarning: Calling `Session.link()` is deprecated, just access the `Session.link` property instead. Use `session.link / 'some_path'` to add a path to the linked URL.\n",
      "  deprecated(\n"
     ]
    },
    {
     "data": {
      "application/vnd.atoti.link.v0+json": {
       "path": "",
       "sessionLocation": {
        "https": false,
        "port": 49248
       }
      },
      "text/markdown": [
       "http://localhost:49248\n",
       "\n",
       "_Note_: This is the session's local URL: it may not be reachable if Atoti is running on another machine."
      ],
      "text/plain": [
       "http://localhost:49248 (This is the session's local URL: it may not be reachable if Atoti is running on another machine.)"
      ]
     },
     "execution_count": 2,
     "metadata": {},
     "output_type": "execute_result"
    }
   ],
   "source": [
    "session = tt.Session()\n",
    "session.link()"
   ]
  },
  {
   "cell_type": "code",
   "execution_count": 3,
   "id": "4844804f",
   "metadata": {},
   "outputs": [],
   "source": [
    "pays_table = session.read_pandas(\n",
    "    pays_df, keys=[\"id_pays\"], table_name=\"pays\"\n",
    ")\n",
    "date_table = session.read_pandas(\n",
    "    date_df, keys=[\"id_date\"], table_name=\"date\"\n",
    ")\n",
    "covid_table = session.read_pandas(\n",
    "    covid_df, keys=['id_pays',\"id_date\"], table_name=\"Cube\"\n",
    ")\n"
   ]
  },
  {
   "cell_type": "code",
   "execution_count": 4,
   "id": "c0ea4153",
   "metadata": {},
   "outputs": [],
   "source": [
    "\n",
    "covid_table.join(pays_table, covid_table[\"id_pays\"]==pays_table[\"id_pays\"])\n",
    "covid_table.join(date_table, covid_table[\"id_date\"]==date_table[\"id_date\"])\n",
    "pays_table.head()\n",
    "date_table.head()\n",
    "\n",
    "cube = session.create_cube(covid_table)\n",
    "h, l, m = cube.hierarchies, cube.levels, cube.measures\n",
    "h[\"pays\"]=[pays_table[\"continent\"],pays_table[\"nom_pays\"]]"
   ]
  },
  {
   "cell_type": "code",
   "execution_count": 5,
   "id": "482d974b",
   "metadata": {},
   "outputs": [
    {
     "name": "stderr",
     "output_type": "stream",
     "text": [
      "An error occurred while calling o185.generateSchemaGraph.\n",
      ": guru.nidi.graphviz.engine.GraphvizException: None of the provided engines could be initialized.\r\n",
      "\tat guru.nidi.graphviz.engine.Graphviz.getEngine(Graphviz.java:162)\r\n",
      "\tat guru.nidi.graphviz.engine.Graphviz.doExecute(Graphviz.java:312)\r\n",
      "\tat guru.nidi.graphviz.engine.Graphviz.execute(Graphviz.java:292)\r\n",
      "\tat guru.nidi.graphviz.engine.Renderer.execute(Renderer.java:139)\r\n",
      "\tat guru.nidi.graphviz.engine.Renderer.toFile(Renderer.java:59)\r\n",
      "\tat com.activeviam.graphviz.DataStoreGraphBuilder.writeGraph(DataStoreGraphBuilder.java:110)\r\n",
      "\tat com.activeviam.graphviz.DataStoreGraphBuilder.buildCubeSchema(DataStoreGraphBuilder.java:92)\r\n",
      "\tat io.atoti.api.impl.OutsideTransactionDataApiImpl.generateSchemaGraph(OutsideTransactionDataApiImpl.java:185)\r\n",
      "\tat java.base/jdk.internal.reflect.NativeMethodAccessorImpl.invoke0(Native Method)\r\n",
      "\tat java.base/jdk.internal.reflect.NativeMethodAccessorImpl.invoke(Unknown Source)\r\n",
      "\tat java.base/jdk.internal.reflect.DelegatingMethodAccessorImpl.invoke(Unknown Source)\r\n",
      "\tat java.base/java.lang.reflect.Method.invoke(Unknown Source)\r\n",
      "\tat py4j.reflection.MethodInvoker.invoke(MethodInvoker.java:244)\r\n",
      "\tat py4j.reflection.ReflectionEngine.invoke(ReflectionEngine.java:357)\r\n",
      "\tat py4j.Gateway.invoke(Gateway.java:282)\r\n",
      "\tat py4j.commands.AbstractCommand.invokeMethod(AbstractCommand.java:132)\r\n",
      "\tat py4j.commands.CallCommand.execute(CallCommand.java:79)\r\n",
      "\tat py4j.ClientServerConnection.waitForCommands(ClientServerConnection.java:182)\r\n",
      "\tat py4j.ClientServerConnection.run(ClientServerConnection.java:106)\r\n",
      "\tat java.base/java.lang.Thread.run(Unknown Source)\r\n",
      "\n"
     ]
    }
   ],
   "source": [
    "cube.schema"
   ]
  },
  {
   "cell_type": "code",
   "execution_count": 6,
   "id": "2a4e28fc",
   "metadata": {},
   "outputs": [
    {
     "data": {
      "application/json": {
       "Dimensions": {
        "Cube": {
         "id_date": [
          "id_date"
         ],
         "id_pays": [
          "id_pays"
         ]
        },
        "date": {
         "jours": [
          "jours"
         ],
         "mois": [
          "mois"
         ]
        },
        "pays": {
         "code_pays": [
          "code_pays"
         ],
         "continent": [
          "continent"
         ],
         "geold": [
          "geold"
         ],
         "nom_pays": [
          "nom_pays"
         ],
         "pays": [
          "continent",
          "nom_pays"
         ],
         "pays_pop": [
          "pays_pop"
         ]
        }
       },
       "Measures": {
        "contributors.COUNT": {
         "formatter": "INT[#,###]"
        },
        "cum_num.MEAN": {
         "formatter": "DOUBLE[#,###.00]"
        },
        "cum_num.SUM": {
         "formatter": "DOUBLE[#,###.00]"
        },
        "deaths.MEAN": {
         "formatter": "DOUBLE[#,###.00]"
        },
        "deaths.SUM": {
         "formatter": "DOUBLE[#,###.00]"
        },
        "nb_cas.MEAN": {
         "formatter": "DOUBLE[#,###.00]"
        },
        "nb_cas.SUM": {
         "formatter": "DOUBLE[#,###.00]"
        }
       }
      },
      "text/html": [
       "<ul>\n",
       "<li>Cube\n",
       "  <ul>\n",
       "  <li>Dimensions\n",
       "    <ul>\n",
       "    <li>Cube\n",
       "      <ul>\n",
       "      <li>id_date\n",
       "        <ol>\n",
       "        <li>id_date</li>\n",
       "        </ol>      </li>\n",
       "      <li>id_pays\n",
       "        <ol>\n",
       "        <li>id_pays</li>\n",
       "        </ol>      </li>\n",
       "      </ul>\n",
       "    </li>\n",
       "    <li>date\n",
       "      <ul>\n",
       "      <li>jours\n",
       "        <ol>\n",
       "        <li>jours</li>\n",
       "        </ol>      </li>\n",
       "      <li>mois\n",
       "        <ol>\n",
       "        <li>mois</li>\n",
       "        </ol>      </li>\n",
       "      </ul>\n",
       "    </li>\n",
       "    <li>pays\n",
       "      <ul>\n",
       "      <li>code_pays\n",
       "        <ol>\n",
       "        <li>code_pays</li>\n",
       "        </ol>      </li>\n",
       "      <li>continent\n",
       "        <ol>\n",
       "        <li>continent</li>\n",
       "        </ol>      </li>\n",
       "      <li>geold\n",
       "        <ol>\n",
       "        <li>geold</li>\n",
       "        </ol>      </li>\n",
       "      <li>nom_pays\n",
       "        <ol>\n",
       "        <li>nom_pays</li>\n",
       "        </ol>      </li>\n",
       "      <li>pays\n",
       "        <ol>\n",
       "        <li>continent</li>\n",
       "        <li>nom_pays</li>\n",
       "        </ol>      </li>\n",
       "      <li>pays_pop\n",
       "        <ol>\n",
       "        <li>pays_pop</li>\n",
       "        </ol>      </li>\n",
       "      </ul>\n",
       "    </li>\n",
       "    </ul>\n",
       "  </li>\n",
       "  <li>Measures\n",
       "    <ul>\n",
       "    <li>contributors.COUNT\n",
       "      <ul>\n",
       "      <li>formatter: INT[#,###]</li>\n",
       "      </ul>\n",
       "    </li>\n",
       "    <li>cum_num.MEAN\n",
       "      <ul>\n",
       "      <li>formatter: DOUBLE[#,###.00]</li>\n",
       "      </ul>\n",
       "    </li>\n",
       "    <li>cum_num.SUM\n",
       "      <ul>\n",
       "      <li>formatter: DOUBLE[#,###.00]</li>\n",
       "      </ul>\n",
       "    </li>\n",
       "    <li>deaths.MEAN\n",
       "      <ul>\n",
       "      <li>formatter: DOUBLE[#,###.00]</li>\n",
       "      </ul>\n",
       "    </li>\n",
       "    <li>deaths.SUM\n",
       "      <ul>\n",
       "      <li>formatter: DOUBLE[#,###.00]</li>\n",
       "      </ul>\n",
       "    </li>\n",
       "    <li>nb_cas.MEAN\n",
       "      <ul>\n",
       "      <li>formatter: DOUBLE[#,###.00]</li>\n",
       "      </ul>\n",
       "    </li>\n",
       "    <li>nb_cas.SUM\n",
       "      <ul>\n",
       "      <li>formatter: DOUBLE[#,###.00]</li>\n",
       "      </ul>\n",
       "    </li>\n",
       "    </ul>\n",
       "  </li>\n",
       "  </ul>\n",
       "</li>\n",
       "</ul>\n"
      ],
      "text/plain": [
       "<atoti.cube.Cube at 0x2151022c0d0>"
      ]
     },
     "execution_count": 6,
     "metadata": {
      "application/json": {
       "expanded": false,
       "root": "Cube"
      }
     },
     "output_type": "execute_result"
    }
   ],
   "source": [
    "cube"
   ]
  },
  {
   "cell_type": "code",
   "execution_count": 7,
   "id": "2a7d2c50",
   "metadata": {},
   "outputs": [
    {
     "name": "stderr",
     "output_type": "stream",
     "text": [
      "C:\\Users\\yassi_4sf0njx\\anaconda3\\Lib\\site-packages\\atoti_core\\base_session.py:113: FutureWarning: `Session.visualize()` is deprecated, use `Session.widget` instead.\n",
      "  deprecated(\"`Session.visualize()` is deprecated, use `Session.widget` instead.\")\n"
     ]
    },
    {
     "data": {
      "application/vnd.atoti.widget.v0+json": {
       "sessionId": "1702205176_18X8OR",
       "sessionLocation": {
        "https": false,
        "port": 49248
       },
       "widgetCreationCode": "session.widget"
      },
      "text/plain": [
       "Open the notebook in JupyterLab with the Atoti JupyterLab extension enabled to build this widget."
      ]
     },
     "metadata": {},
     "output_type": "display_data"
    }
   ],
   "source": [
    "session.visualize()"
   ]
  },
  {
   "cell_type": "code",
   "execution_count": null,
   "id": "e2a5c876",
   "metadata": {},
   "outputs": [],
   "source": []
  }
 ],
 "metadata": {
  "kernelspec": {
   "display_name": "Python 3 (ipykernel)",
   "language": "python",
   "name": "python3"
  },
  "language_info": {
   "codemirror_mode": {
    "name": "ipython",
    "version": 3
   },
   "file_extension": ".py",
   "mimetype": "text/x-python",
   "name": "python",
   "nbconvert_exporter": "python",
   "pygments_lexer": "ipython3",
   "version": "3.11.5"
  }
 },
 "nbformat": 4,
 "nbformat_minor": 5
}
